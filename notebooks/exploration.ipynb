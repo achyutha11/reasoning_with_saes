{
 "cells": [
  {
   "cell_type": "code",
   "execution_count": 1,
   "id": "a38c3145-08df-4c98-8ee1-aafc799e7dbc",
   "metadata": {},
   "outputs": [
    {
     "name": "stderr",
     "output_type": "stream",
     "text": [
      "/opt/conda/lib/python3.10/site-packages/tqdm/auto.py:21: TqdmWarning: IProgress not found. Please update jupyter and ipywidgets. See https://ipywidgets.readthedocs.io/en/stable/user_install.html\n",
      "  from .autonotebook import tqdm as notebook_tqdm\n",
      "/opt/conda/lib/python3.10/site-packages/torchvision/io/image.py:13: UserWarning: Failed to load image Python extension: '/opt/conda/lib/python3.10/site-packages/torchvision/image.so: undefined symbol: _ZN3c1017RegisterOperatorsD1Ev'If you don't plan on using image functionality from `torchvision.io`, you can ignore this warning. Otherwise, there might be something wrong with your environment. Did you have `libjpeg` or `libpng` installed before building `torchvision` from source?\n",
      "  warn(\n"
     ]
    }
   ],
   "source": [
    "from transformers import AutoModelForCausalLM, AutoTokenizer, BitsAndBytesConfig\n",
    "import torch\n",
    "from sae_lens import SAE\n",
    "import transformer_lens\n",
    "import transformer_lens.utils as utils\n",
    "from transformer_lens import HookedTransformer\n",
    "from functools import partial\n",
    "import string\n",
    "import bitsandbytes\n",
    "from datasets import load_dataset\n",
    "from tqdm import tqdm\n",
    "import numpy as np\n",
    "from scipy.stats import trim_mean\n",
    "from torch.utils.data import DataLoader, Dataset\n",
    "import gc\n",
    "import time"
   ]
  },
  {
   "cell_type": "code",
   "execution_count": 2,
   "id": "78c72650-c568-40a1-aea5-7e2240a5a61e",
   "metadata": {},
   "outputs": [],
   "source": [
    "from huggingface_hub import login\n",
    "login(token=\"REDACTED\")"
   ]
  },
  {
   "cell_type": "code",
   "execution_count": 3,
   "id": "524a4797-71e6-4785-aee2-06f043b02870",
   "metadata": {},
   "outputs": [],
   "source": [
    "# torch.cuda.empty_cache()   \n",
    "# gc.collect()"
   ]
  },
  {
   "cell_type": "code",
   "execution_count": 4,
   "id": "72d9a06e-3bd8-442c-bbf5-eea39ecbbfad",
   "metadata": {},
   "outputs": [],
   "source": [
    "bnb_config = BitsAndBytesConfig(\n",
    "    load_in_4bit=True,\n",
    "    bnb_4bit_quant_type=\"nf4\",  \n",
    "    bnb_4bit_compute_dtype=torch.float16,\n",
    "    llm_int8_enable_fp32_cpu_offload=True\n",
    ")"
   ]
  },
  {
   "cell_type": "code",
   "execution_count": 5,
   "id": "f6056570-a450-4f52-8a46-c992280524ff",
   "metadata": {},
   "outputs": [
    {
     "name": "stderr",
     "output_type": "stream",
     "text": [
      "Fetching 2 files: 100%|██████████| 2/2 [02:35<00:00, 77.70s/it] \n",
      "Loading checkpoint shards: 100%|██████████| 2/2 [00:18<00:00,  9.17s/it]\n"
     ]
    }
   ],
   "source": [
    "device = utils.get_device()\n",
    "model_name = 'deepseek-ai/DeepSeek-R1-Distill-Llama-8B'\n",
    "model = AutoModelForCausalLM.from_pretrained(\n",
    "    model_name,\n",
    "    quantization_config=bnb_config\n",
    ")"
   ]
  },
  {
   "cell_type": "code",
   "execution_count": 6,
   "id": "1e9d6261-4db5-4238-ab5a-726513105c20",
   "metadata": {},
   "outputs": [
    {
     "data": {
      "text/plain": [
       "LlamaForCausalLM(\n",
       "  (model): LlamaModel(\n",
       "    (embed_tokens): Embedding(128256, 4096)\n",
       "    (layers): ModuleList(\n",
       "      (0-31): 32 x LlamaDecoderLayer(\n",
       "        (self_attn): LlamaAttention(\n",
       "          (q_proj): Linear4bit(in_features=4096, out_features=4096, bias=False)\n",
       "          (k_proj): Linear4bit(in_features=4096, out_features=1024, bias=False)\n",
       "          (v_proj): Linear4bit(in_features=4096, out_features=1024, bias=False)\n",
       "          (o_proj): Linear4bit(in_features=4096, out_features=4096, bias=False)\n",
       "        )\n",
       "        (mlp): LlamaMLP(\n",
       "          (gate_proj): Linear4bit(in_features=4096, out_features=14336, bias=False)\n",
       "          (up_proj): Linear4bit(in_features=4096, out_features=14336, bias=False)\n",
       "          (down_proj): Linear4bit(in_features=14336, out_features=4096, bias=False)\n",
       "          (act_fn): SiLU()\n",
       "        )\n",
       "        (input_layernorm): LlamaRMSNorm((4096,), eps=1e-05)\n",
       "        (post_attention_layernorm): LlamaRMSNorm((4096,), eps=1e-05)\n",
       "      )\n",
       "    )\n",
       "    (norm): LlamaRMSNorm((4096,), eps=1e-05)\n",
       "    (rotary_emb): LlamaRotaryEmbedding()\n",
       "  )\n",
       "  (lm_head): Linear(in_features=4096, out_features=128256, bias=False)\n",
       ")"
      ]
     },
     "execution_count": 6,
     "metadata": {},
     "output_type": "execute_result"
    }
   ],
   "source": [
    "model.eval()"
   ]
  },
  {
   "cell_type": "code",
   "execution_count": 7,
   "id": "ab54636b-5cc5-4018-8544-e330ce149a79",
   "metadata": {},
   "outputs": [],
   "source": [
    "tokenizer = AutoTokenizer.from_pretrained(model_name)"
   ]
  },
  {
   "cell_type": "code",
   "execution_count": 8,
   "id": "10b1af05-f1e4-49cf-b97b-42cac36bd6e5",
   "metadata": {},
   "outputs": [],
   "source": [
    "release = \"llama_scope_r1_distill\"\n",
    "sae_id = \"l25r_400m_slimpajama_400m_openr1_math\"\n",
    "sae, cfg_dict, sparsity = SAE.from_pretrained_with_cfg_and_sparsity(release, sae_id)\n",
    "sae = sae.to(device)"
   ]
  },
  {
   "cell_type": "code",
   "execution_count": 9,
   "id": "97374fe5-16af-4809-b7e8-32852c01c54a",
   "metadata": {},
   "outputs": [],
   "source": [
    "def format_prompt_aqua(query, reasoning=True, include_options=True):\n",
    "    COT_PROMPT = r'Please reason step by step, and put your final answer within \\boxed{}.'\n",
    "    question, options = query['question'], query['options']\n",
    "    joined_options = \"\\n\".join(options) if include_options else \"\"\n",
    "    if reasoning:\n",
    "        return f'<s>[INST] {question}{joined_options}\\n{COT_PROMPT} [/INST] \\n<think>\\n'\n",
    "    else:\n",
    "        return f'<s>[INST] {question}{joined_options}\\n [/INST] \\n'"
   ]
  },
  {
   "cell_type": "code",
   "execution_count": 10,
   "id": "429e7732-5859-40fd-80d3-9f8c97d24448",
   "metadata": {},
   "outputs": [],
   "source": [
    "def format_prompt_tqa(question, reasoning=True):\n",
    "    COT_PROMPT = r'Please reason step by step, and put your final answer within \\boxed{}.'\n",
    "    if reasoning:\n",
    "        return f'<s>[INST] {question}\\n{COT_PROMPT} [/INST] \\n<think>\\n'\n",
    "    else:\n",
    "        return f'<s>[INST] {question}\\n [/INST] \\n'  "
   ]
  },
  {
   "cell_type": "code",
   "execution_count": null,
   "id": "f076f2ce-66aa-4aec-9824-e114dae39b51",
   "metadata": {},
   "outputs": [],
   "source": []
  },
  {
   "cell_type": "code",
   "execution_count": 11,
   "id": "eab75eee-aa57-460c-b6bb-cdcc304d6c9f",
   "metadata": {},
   "outputs": [],
   "source": [
    "class TokenizedPromptDataset(Dataset):\n",
    "    def __init__(self, tokenized_inputs, queries):\n",
    "        self.input_ids = tokenized_inputs['input_ids']\n",
    "        self.attn_masks = tokenized_inputs['attention_mask']\n",
    "        self.queries = queries\n",
    "\n",
    "    def __len__(self):\n",
    "        return len(self.queries)\n",
    "\n",
    "    def __getitem__(self, idx):\n",
    "        return {\n",
    "            'input_ids': self.input_ids[idx],\n",
    "            'attention_mask': self.attn_masks[idx],\n",
    "            'query': self.queries[idx]\n",
    "        }"
   ]
  },
  {
   "cell_type": "code",
   "execution_count": 12,
   "id": "da0ea104-94a6-460a-be05-8c06e4df2e7f",
   "metadata": {},
   "outputs": [],
   "source": [
    "def collate_tokenized(batch):\n",
    "    input_ids = torch.stack([item['input_ids'] for item in batch])\n",
    "    attention_mask = torch.stack([item['attention_mask'] for item in batch])\n",
    "    queries = [item['query'] for item in batch]\n",
    "    return {'input_ids': input_ids, 'attention_mask': attention_mask}, queries"
   ]
  },
  {
   "cell_type": "code",
   "execution_count": 14,
   "id": "6f115fea-0c1f-4797-90ab-ccf6acc10683",
   "metadata": {},
   "outputs": [],
   "source": [
    "def get_cot_batch(ds, batch_size, tokenizer, model, collate_fn):\n",
    "    \n",
    "    tokenized = tokenizer(\n",
    "        [format_prompt_aqua(q, reasoning=True) for q in ds],\n",
    "        return_tensors='pt',\n",
    "        padding=True,\n",
    "        truncation=True,\n",
    "        max_length=8192\n",
    "    )\n",
    "\n",
    "    dataset = TokenizedPromptDataset(tokenized, ds)\n",
    "    dataloader = DataLoader(dataset, batch_size=batch_size, collate_fn=collate_fn)\n",
    "\n",
    "    all_preds = []\n",
    "    all_generations = []\n",
    "    MCQ_ANSWER_PROMPT = 'The correct answer is ('\n",
    "    \n",
    "    for batch_inputs, queries in tqdm(dataloader):\n",
    "        \n",
    "        input_ids = batch_inputs['input_ids'].to(model.device)\n",
    "        attention_mask = batch_inputs['attention_mask'].to(model.device)\n",
    "\n",
    "        with torch.inference_mode():\n",
    "            output_ids = model.generate(\n",
    "                input_ids=input_ids,\n",
    "                attention_mask=attention_mask,\n",
    "                max_new_tokens=512,\n",
    "                do_sample=True,\n",
    "                temperature=0.6,\n",
    "                top_p=0.95,\n",
    "                pad_token_id=tokenizer.eos_token_id\n",
    "            )\n",
    "    \n",
    "        decoded = tokenizer.batch_decode(output_ids, skip_special_tokens=False)\n",
    "        decoded = [\"\".join(out.split('[/INST]')[1:]) for out in decoded]\n",
    "        all_generations.extend(decoded)\n",
    "    \n",
    "        answer_prompts = [text + MCQ_ANSWER_PROMPT for text in decoded]\n",
    "        answer_inputs = tokenizer(answer_prompts, return_tensors='pt', padding=True, truncation=True).to(model.device)\n",
    "    \n",
    "        with torch.inference_mode():\n",
    "            out = model(**answer_inputs)\n",
    "    \n",
    "        for i, query in enumerate(queries):\n",
    "            options = query['options']\n",
    "            letters = list(string.ascii_uppercase)[:len(options)]\n",
    "            valid_ids = tokenizer.convert_tokens_to_ids(letters)\n",
    "            logits = out.logits[i, -1, valid_ids]\n",
    "            pred_idx = torch.argmax(logits).item()\n",
    "            all_preds.append(letters[pred_idx])\n",
    "\n",
    "    return all_preds, all_generations\n",
    "    "
   ]
  },
  {
   "cell_type": "code",
   "execution_count": 18,
   "id": "ae4d37c0-8d58-43c4-8e58-09b01b0e711a",
   "metadata": {},
   "outputs": [
    {
     "name": "stderr",
     "output_type": "stream",
     "text": [
      "100%|██████████| 16/16 [14:41<00:00, 55.10s/it]\n"
     ]
    }
   ],
   "source": [
    "preds, gens = get_cot_batch(aqua_ds, 16, tokenizer, model, collate_tokenized)"
   ]
  },
  {
   "cell_type": "code",
   "execution_count": null,
   "id": "44eeeee8-d107-43fe-9526-83498af4bc2d",
   "metadata": {},
   "outputs": [],
   "source": []
  },
  {
   "cell_type": "code",
   "execution_count": null,
   "id": "95e53111-3fa5-46da-94be-ca6ca601fa08",
   "metadata": {},
   "outputs": [],
   "source": []
  },
  {
   "cell_type": "code",
   "execution_count": 16,
   "id": "8907360a-096d-4e0e-bc82-a3bf0d8738b2",
   "metadata": {},
   "outputs": [
    {
     "name": "stderr",
     "output_type": "stream",
     "text": [
      "Downloading readme: 100%|██████████| 5.89k/5.89k [00:00<00:00, 19.3kB/s]\n",
      "Downloading data: 100%|██████████| 25.4M/25.4M [00:02<00:00, 12.2MB/s]\n",
      "Downloading data: 100%|██████████| 74.0k/74.0k [00:00<00:00, 239kB/s]\n",
      "Downloading data: 100%|██████████| 76.1k/76.1k [00:00<00:00, 247kB/s]\n",
      "Generating train split: 100%|██████████| 97467/97467 [00:00<00:00, 417344.26 examples/s]\n",
      "Generating test split: 100%|██████████| 254/254 [00:00<00:00, 83406.66 examples/s]\n",
      "Generating validation split: 100%|██████████| 254/254 [00:00<00:00, 97203.76 examples/s]\n"
     ]
    }
   ],
   "source": [
    "aqua_ds = load_dataset('aqua_rat', 'raw', split='test')"
   ]
  },
  {
   "cell_type": "code",
   "execution_count": 17,
   "id": "5df4f50b-548f-4aeb-8262-c346fca5e058",
   "metadata": {},
   "outputs": [
    {
     "data": {
      "text/plain": [
       "Dataset({\n",
       "    features: ['question', 'options', 'rationale', 'correct'],\n",
       "    num_rows: 254\n",
       "})"
      ]
     },
     "execution_count": 17,
     "metadata": {},
     "output_type": "execute_result"
    }
   ],
   "source": [
    "aqua_ds"
   ]
  },
  {
   "cell_type": "code",
   "execution_count": 21,
   "id": "22b4bdfb-6d60-4caf-a45b-5b231941a9e3",
   "metadata": {},
   "outputs": [],
   "source": [
    "def get_sae_acts(input_batch, layer, agg='mean'):\n",
    "\n",
    "    activation_dict = {}\n",
    "\n",
    "    def hook_fn(module, input, output):\n",
    "        activation_dict[\"hidden\"] = output\n",
    "\n",
    "    hook = model.model.layers[layer].register_forward_hook(hook_fn)\n",
    "\n",
    "    model.eval()\n",
    "\n",
    "    with torch.no_grad():\n",
    "        _ = model(**input_batch)\n",
    "\n",
    "    hook.remove()\n",
    "    \n",
    "    hidden_states = activation_dict['hidden']\n",
    "    raw_feats = sae.encode(hidden_states)\n",
    "    \n",
    "    if agg == 'mean':\n",
    "        result= raw_feats.mean(dim=1) \n",
    "    elif agg == 'last':\n",
    "        result = raw_feats[:, -1]\n",
    "\n",
    "    del hidden_states, raw_feats\n",
    "    \n",
    "    return result"
   ]
  },
  {
   "cell_type": "code",
   "execution_count": 22,
   "id": "0bdd3b2e-53ca-4e2c-b32a-f3041e6a9d21",
   "metadata": {},
   "outputs": [],
   "source": [
    "class IndexedPromptDataset(Dataset):\n",
    "    def __init__(self, num_examples):\n",
    "        self.indices = list(range(num_examples))\n",
    "\n",
    "    def __len__(self):\n",
    "        return len(self.indices)\n",
    "\n",
    "    def __getitem__(self, idx):\n",
    "        return self.indices[idx]\n",
    "\n",
    "def collate_tokenized(batch_indices, tokenized):\n",
    "    return {k: v[batch_indices] for k, v in tokenized.items()}"
   ]
  },
  {
   "cell_type": "code",
   "execution_count": 23,
   "id": "5e9d2fa4-1bb3-4acd-9f7f-28b10d782465",
   "metadata": {},
   "outputs": [],
   "source": [
    "def get_ds_saes(sae, layer, prompts, model, collate_fn, batch_size=8, agg='mean'):\n",
    "    \n",
    "    dataset = IndexedPromptDataset(len(prompts))\n",
    "    dataloader = DataLoader(dataset, batch_size=batch_size, collate_fn=collate_fn)\n",
    "\n",
    "    num_feats = sae.cfg.d_sae\n",
    "    sae_mat = torch.zeros(len(prompts), num_feats)\n",
    "\n",
    "    with torch.no_grad():\n",
    "        for i, batch_inputs in enumerate(tqdm(dataloader)):\n",
    "            batch_inputs = {k: v.to(model.device) for k, v in batch_inputs.items()}\n",
    "            batch_feats = get_sae_acts(batch_inputs, layer=layer, agg=agg)\n",
    "            start = i * batch_size\n",
    "            end = start + batch_feats.shape[0]\n",
    "            sae_mat[start:end] = batch_feats.cpu()\n",
    "\n",
    "    return sae_mat"
   ]
  },
  {
   "cell_type": "code",
   "execution_count": 24,
   "id": "6f0a1076-a8e7-4741-95a2-676477af12f7",
   "metadata": {},
   "outputs": [],
   "source": [
    "aq_prompts = [format_prompt_aqua(q) for q in aqua_ds]\n",
    "aq_tokenized = tokenizer(aq_prompts, return_tensors='pt', padding=True, truncation=True)"
   ]
  },
  {
   "cell_type": "code",
   "execution_count": 26,
   "id": "817d05ad-9e98-4615-a824-e79e424dcc98",
   "metadata": {},
   "outputs": [],
   "source": [
    "aq_collate_fn = partial(collate_tokenized, tokenized=aq_tokenized)"
   ]
  },
  {
   "cell_type": "code",
   "execution_count": 27,
   "id": "7df177e8-add6-4b4a-9791-ecc5aed161a7",
   "metadata": {},
   "outputs": [
    {
     "name": "stderr",
     "output_type": "stream",
     "text": [
      "100%|██████████| 32/32 [00:12<00:00,  2.63it/s]\n"
     ]
    }
   ],
   "source": [
    "means_r = get_ds_saes(sae, 25, aq_prompts, model, collate_fn=aq_collate_fn, agg='mean')"
   ]
  },
  {
   "cell_type": "code",
   "execution_count": 30,
   "id": "ca307248-3cfc-44ae-8a59-ce2f74793b82",
   "metadata": {},
   "outputs": [],
   "source": [
    "aq_cots_tokenized = tokenizer(gens, return_tensors='pt', padding=True, truncation=True)\n",
    "aq_cot_collate_fn = partial(collate_tokenized, tokenized=aq_cots_tokenized)"
   ]
  },
  {
   "cell_type": "code",
   "execution_count": 31,
   "id": "9d8dc579-f41d-49da-b6a7-5cb89c722a41",
   "metadata": {},
   "outputs": [
    {
     "name": "stderr",
     "output_type": "stream",
     "text": [
      "100%|██████████| 32/32 [00:39<00:00,  1.24s/it]\n"
     ]
    }
   ],
   "source": [
    "means_cot = get_ds_saes(sae, 25, gens, model, collate_fn=aq_cot_collate_fn, agg='mean')"
   ]
  },
  {
   "cell_type": "code",
   "execution_count": 32,
   "id": "b1f57806-187d-4b6d-9b8b-80e03f091458",
   "metadata": {},
   "outputs": [],
   "source": [
    "mean_q = trim_mean(means_r.detach(), proportiontocut=0.05, axis=0)"
   ]
  },
  {
   "cell_type": "code",
   "execution_count": 33,
   "id": "6a440941-1836-48cf-bca0-f4d4daa505d3",
   "metadata": {},
   "outputs": [],
   "source": [
    "means_cot = trim_mean(means_cot.detach(), proportiontocut=0.05, axis=0)"
   ]
  },
  {
   "cell_type": "code",
   "execution_count": 34,
   "id": "80af5922-2c0f-461d-903b-7c06525d6d1c",
   "metadata": {},
   "outputs": [],
   "source": [
    "epsilon = 1e-6\n",
    "percentage_increase = 100 * (means_cot - mean_q) / (mean_q + epsilon)"
   ]
  },
  {
   "cell_type": "code",
   "execution_count": 52,
   "id": "b633bffe-222a-4e39-a257-c1dcf3d243f0",
   "metadata": {},
   "outputs": [],
   "source": [
    "valid = (means_cot > 0.1) & (mean_q > 0.01)"
   ]
  },
  {
   "cell_type": "code",
   "execution_count": 53,
   "id": "8010cf91-319b-4b95-b5e8-b346064d0017",
   "metadata": {},
   "outputs": [],
   "source": [
    "filtered_percentage_increase = percentage_increase[valid]"
   ]
  },
  {
   "cell_type": "code",
   "execution_count": 54,
   "id": "1df3aa14-3e5d-4b18-97db-38741644fe68",
   "metadata": {},
   "outputs": [],
   "source": [
    "valid_indices = np.where(valid)[0]  "
   ]
  },
  {
   "cell_type": "code",
   "execution_count": 55,
   "id": "ae612298-6681-4a0f-aa9f-344027dda865",
   "metadata": {},
   "outputs": [
    {
     "name": "stdout",
     "output_type": "stream",
     "text": [
      "Feature 10527: Question mean = 0.0141, CoT mean = 0.2704, % increase = 1812.44%\n",
      "Feature 26077: Question mean = 0.0254, CoT mean = 0.4213, % increase = 1561.91%\n",
      "Feature 11762: Question mean = 0.0420, CoT mean = 0.5053, % increase = 1101.90%\n",
      "Feature 28534: Question mean = 0.0165, CoT mean = 0.1310, % increase = 694.80%\n",
      "Feature 29395: Question mean = 0.0156, CoT mean = 0.1182, % increase = 657.48%\n",
      "Feature 31564: Question mean = 0.0375, CoT mean = 0.2510, % increase = 568.85%\n",
      "Feature 18463: Question mean = 0.0330, CoT mean = 0.2022, % increase = 512.06%\n",
      "Feature 22078: Question mean = 0.0303, CoT mean = 0.1455, % increase = 380.09%\n",
      "Feature 29825: Question mean = 0.0314, CoT mean = 0.1334, % increase = 324.75%\n",
      "Feature 20549: Question mean = 0.0560, CoT mean = 0.2096, % increase = 274.50%\n"
     ]
    }
   ],
   "source": [
    "ranked_order = np.argsort(-filtered_percentage_increase)\n",
    "ranked_feature_indices = valid_indices[ranked_order] \n",
    "reasoning_feats = []\n",
    "\n",
    "top_k = 10\n",
    "for i in range(top_k):\n",
    "    idx = ranked_feature_indices[i]\n",
    "    reasoning_feats.append(idx)\n",
    "    print(f\"Feature {idx}: Question mean = {mean_q[idx]:.4f}, \"\n",
    "          f\"CoT mean = {means_cot[idx]:.4f}, \"\n",
    "          f\"% increase = {percentage_increase[idx]:.2f}%\")"
   ]
  },
  {
   "cell_type": "code",
   "execution_count": null,
   "id": "3a5d3c80-22ad-40d1-9e77-ff95bb4979f4",
   "metadata": {},
   "outputs": [],
   "source": []
  }
 ],
 "metadata": {
  "kernelspec": {
   "display_name": "Python 3 (ipykernel)",
   "language": "python",
   "name": "python3"
  },
  "language_info": {
   "codemirror_mode": {
    "name": "ipython",
    "version": 3
   },
   "file_extension": ".py",
   "mimetype": "text/x-python",
   "name": "python",
   "nbconvert_exporter": "python",
   "pygments_lexer": "ipython3",
   "version": "3.10.13"
  }
 },
 "nbformat": 4,
 "nbformat_minor": 5
}
