{
 "cells": [
  {
   "cell_type": "code",
   "execution_count": 1,
   "id": "a38c3145-08df-4c98-8ee1-aafc799e7dbc",
   "metadata": {},
   "outputs": [
    {
     "name": "stderr",
     "output_type": "stream",
     "text": [
      "/opt/conda/lib/python3.10/site-packages/tqdm/auto.py:21: TqdmWarning: IProgress not found. Please update jupyter and ipywidgets. See https://ipywidgets.readthedocs.io/en/stable/user_install.html\n",
      "  from .autonotebook import tqdm as notebook_tqdm\n",
      "/opt/conda/lib/python3.10/site-packages/torchvision/io/image.py:13: UserWarning: Failed to load image Python extension: '/opt/conda/lib/python3.10/site-packages/torchvision/image.so: undefined symbol: _ZN3c1017RegisterOperatorsD1Ev'If you don't plan on using image functionality from `torchvision.io`, you can ignore this warning. Otherwise, there might be something wrong with your environment. Did you have `libjpeg` or `libpng` installed before building `torchvision` from source?\n",
      "  warn(\n"
     ]
    }
   ],
   "source": [
    "from transformers import AutoModelForCausalLM, AutoTokenizer, BitsAndBytesConfig\n",
    "import torch\n",
    "from sae_lens import SAE\n",
    "import transformer_lens\n",
    "import transformer_lens.utils as utils\n",
    "from transformer_lens import HookedTransformer\n",
    "from functools import partial\n",
    "import string\n",
    "import bitsandbytes\n",
    "from datasets import load_dataset\n",
    "from tqdm import tqdm\n",
    "import numpy as np\n",
    "from scipy.stats import trim_mean\n",
    "from torch.utils.data import DataLoader, Dataset\n",
    "import gc\n",
    "import time\n",
    "from collections import defaultdict\n",
    "import matplotlib.pyplot as plt\n",
    "import pickle"
   ]
  },
  {
   "cell_type": "code",
   "execution_count": 24,
   "id": "bcbbaed4-3455-485f-81ff-c9e4e3c3be10",
   "metadata": {},
   "outputs": [],
   "source": [
    "import sys\n",
    "sys.path.append(\"../src/\")\n",
    "from get_reasoning_feats import IndexedPromptDataset, collate_tokenized \n",
    "from prompt import format_prompt_aqua"
   ]
  },
  {
   "cell_type": "code",
   "execution_count": 3,
   "id": "78c72650-c568-40a1-aea5-7e2240a5a61e",
   "metadata": {},
   "outputs": [],
   "source": [
    "from huggingface_hub import login\n",
    "login(token=\"REDACTED\")"
   ]
  },
  {
   "cell_type": "code",
   "execution_count": 4,
   "id": "524a4797-71e6-4785-aee2-06f043b02870",
   "metadata": {},
   "outputs": [],
   "source": [
    "# torch.cuda.empty_cache()   \n",
    "# gc.collect()"
   ]
  },
  {
   "cell_type": "code",
   "execution_count": 5,
   "id": "72d9a06e-3bd8-442c-bbf5-eea39ecbbfad",
   "metadata": {},
   "outputs": [],
   "source": [
    "bnb_config = BitsAndBytesConfig(\n",
    "    load_in_4bit=True,\n",
    "    bnb_4bit_quant_type=\"nf4\",  \n",
    "    bnb_4bit_compute_dtype=torch.float16,\n",
    "    llm_int8_enable_fp32_cpu_offload=True\n",
    ")"
   ]
  },
  {
   "cell_type": "code",
   "execution_count": 6,
   "id": "f6056570-a450-4f52-8a46-c992280524ff",
   "metadata": {},
   "outputs": [
    {
     "name": "stderr",
     "output_type": "stream",
     "text": [
      "Fetching 2 files: 100%|██████████| 2/2 [02:25<00:00, 72.52s/it] \n",
      "Loading checkpoint shards: 100%|██████████| 2/2 [00:35<00:00, 17.56s/it]\n"
     ]
    }
   ],
   "source": [
    "device = utils.get_device()\n",
    "model_name = 'deepseek-ai/DeepSeek-R1-Distill-Llama-8B'\n",
    "model = AutoModelForCausalLM.from_pretrained(\n",
    "    model_name,\n",
    "    quantization_config=bnb_config\n",
    ")"
   ]
  },
  {
   "cell_type": "code",
   "execution_count": 7,
   "id": "1e9d6261-4db5-4238-ab5a-726513105c20",
   "metadata": {},
   "outputs": [
    {
     "data": {
      "text/plain": [
       "LlamaForCausalLM(\n",
       "  (model): LlamaModel(\n",
       "    (embed_tokens): Embedding(128256, 4096)\n",
       "    (layers): ModuleList(\n",
       "      (0-31): 32 x LlamaDecoderLayer(\n",
       "        (self_attn): LlamaAttention(\n",
       "          (q_proj): Linear4bit(in_features=4096, out_features=4096, bias=False)\n",
       "          (k_proj): Linear4bit(in_features=4096, out_features=1024, bias=False)\n",
       "          (v_proj): Linear4bit(in_features=4096, out_features=1024, bias=False)\n",
       "          (o_proj): Linear4bit(in_features=4096, out_features=4096, bias=False)\n",
       "        )\n",
       "        (mlp): LlamaMLP(\n",
       "          (gate_proj): Linear4bit(in_features=4096, out_features=14336, bias=False)\n",
       "          (up_proj): Linear4bit(in_features=4096, out_features=14336, bias=False)\n",
       "          (down_proj): Linear4bit(in_features=14336, out_features=4096, bias=False)\n",
       "          (act_fn): SiLU()\n",
       "        )\n",
       "        (input_layernorm): LlamaRMSNorm((4096,), eps=1e-05)\n",
       "        (post_attention_layernorm): LlamaRMSNorm((4096,), eps=1e-05)\n",
       "      )\n",
       "    )\n",
       "    (norm): LlamaRMSNorm((4096,), eps=1e-05)\n",
       "    (rotary_emb): LlamaRotaryEmbedding()\n",
       "  )\n",
       "  (lm_head): Linear(in_features=4096, out_features=128256, bias=False)\n",
       ")"
      ]
     },
     "execution_count": 7,
     "metadata": {},
     "output_type": "execute_result"
    }
   ],
   "source": [
    "model.eval()"
   ]
  },
  {
   "cell_type": "code",
   "execution_count": 8,
   "id": "ab54636b-5cc5-4018-8544-e330ce149a79",
   "metadata": {},
   "outputs": [],
   "source": [
    "tokenizer = AutoTokenizer.from_pretrained(model_name)"
   ]
  },
  {
   "cell_type": "code",
   "execution_count": 9,
   "id": "10b1af05-f1e4-49cf-b97b-42cac36bd6e5",
   "metadata": {},
   "outputs": [],
   "source": [
    "release = \"llama_scope_r1_distill\"\n",
    "sae_id = \"l25r_400m_slimpajama_400m_openr1_math\"\n",
    "sae, cfg_dict, sparsity = SAE.from_pretrained_with_cfg_and_sparsity(release, sae_id)\n",
    "sae = sae.to(device)"
   ]
  },
  {
   "cell_type": "code",
   "execution_count": 10,
   "id": "90b629a1-3fbe-453b-b1e1-5ec75c97f191",
   "metadata": {},
   "outputs": [
    {
     "name": "stderr",
     "output_type": "stream",
     "text": [
      "Downloading readme: 100%|██████████| 5.89k/5.89k [00:00<00:00, 15.5kB/s]\n",
      "Downloading data: 100%|██████████| 25.4M/25.4M [00:02<00:00, 10.2MB/s]\n",
      "Downloading data: 100%|██████████| 74.0k/74.0k [00:00<00:00, 96.5kB/s]\n",
      "Downloading data: 100%|██████████| 76.1k/76.1k [00:00<00:00, 211kB/s]\n",
      "Generating train split: 100%|██████████| 97467/97467 [00:00<00:00, 346111.87 examples/s]\n",
      "Generating test split: 100%|██████████| 254/254 [00:00<00:00, 75130.69 examples/s]\n",
      "Generating validation split: 100%|██████████| 254/254 [00:00<00:00, 77711.96 examples/s]\n"
     ]
    }
   ],
   "source": [
    "aqua_ds = load_dataset('aqua_rat', 'raw', split='test')"
   ]
  },
  {
   "cell_type": "code",
   "execution_count": 11,
   "id": "0ef50737-ca8f-464d-80cb-091781982620",
   "metadata": {},
   "outputs": [],
   "source": [
    "with open('../data/query_list.pkl', 'rb') as f:\n",
    "    questions = pickle.load(f)"
   ]
  },
  {
   "cell_type": "code",
   "execution_count": 12,
   "id": "6667a792-32ad-4fcd-98d7-745dfb9afa71",
   "metadata": {},
   "outputs": [],
   "source": [
    "with open('../data/preds_list.pkl', 'rb') as f:\n",
    "    preds = pickle.load(f)"
   ]
  },
  {
   "cell_type": "code",
   "execution_count": 13,
   "id": "70591b49-283e-4932-a9c1-e3587cfe2008",
   "metadata": {},
   "outputs": [],
   "source": [
    "with open('../data/cot_list.pkl', 'rb') as f:\n",
    "    cots = pickle.load(f)"
   ]
  },
  {
   "cell_type": "code",
   "execution_count": 14,
   "id": "c7d8406d-2e83-4118-adcf-b0ecb0e24d9d",
   "metadata": {},
   "outputs": [],
   "source": [
    "with open('../data/query_feats.pkl', 'rb') as f:\n",
    "    query_feats = pickle.load(f)"
   ]
  },
  {
   "cell_type": "code",
   "execution_count": 15,
   "id": "ddf04fd1-8314-45bd-9342-191f56584cbc",
   "metadata": {},
   "outputs": [],
   "source": [
    "with open('../data/cot_feats.pkl', 'rb') as f:\n",
    "    cot_feats = pickle.load(f)"
   ]
  },
  {
   "cell_type": "code",
   "execution_count": 16,
   "id": "e27c13b1-658f-4667-9580-ab44165a4b52",
   "metadata": {},
   "outputs": [],
   "source": [
    "with open('../data/preds_feats.pkl', 'rb') as f:\n",
    "    preds_feats = pickle.load(f)"
   ]
  },
  {
   "cell_type": "code",
   "execution_count": 18,
   "id": "c913db65-4f65-4142-9413-36ff01700e69",
   "metadata": {},
   "outputs": [],
   "source": [
    "def bin_token_activations_batch(activation_tensor, attention_mask, num_bins=20):\n",
    "    \n",
    "    B, T = activation_tensor.shape\n",
    "    binned = torch.zeros(B, num_bins)\n",
    "    counts = torch.zeros(B, num_bins)\n",
    "\n",
    "    for b in range(B):\n",
    "\n",
    "        valid_indices = attention_mask[b].nonzero(as_tuple=True)[0]\n",
    "        n_valid = len(valid_indices)\n",
    "\n",
    "        bin_idx = torch.linspace(0, num_bins, steps=n_valid, dtype=torch.long)\n",
    "        bin_idx = torch.clamp(bin_idx, max=num_bins - 1)\n",
    "\n",
    "        for i, token_pos in enumerate(valid_indices):\n",
    "            idx = bin_idx[i].item()\n",
    "            binned[b, idx] += activation_tensor[b, token_pos]\n",
    "            counts[b, idx] += 1\n",
    "\n",
    "    counts = torch.clamp(counts, min=1)\n",
    "    return binned / counts"
   ]
  },
  {
   "cell_type": "code",
   "execution_count": 19,
   "id": "7a25a802-368b-491c-b6dd-40254a238cb3",
   "metadata": {},
   "outputs": [],
   "source": [
    "def get_sae_acts(model, sae, input_batch, layer, agg='mean'):\n",
    "\n",
    "    activation_dict = {}\n",
    "\n",
    "    def hook_fn(module, input, output):\n",
    "        activation_dict[\"hidden\"] = output\n",
    "\n",
    "    hook = model.model.layers[layer].register_forward_hook(hook_fn)\n",
    "\n",
    "    model.eval()\n",
    "\n",
    "    with torch.no_grad():\n",
    "        _ = model(**input_batch)\n",
    "\n",
    "    hook.remove()\n",
    "\n",
    "    hidden_states = activation_dict['hidden']\n",
    "    raw_feats = sae.encode(hidden_states)\n",
    "\n",
    "    if agg == 'mean':\n",
    "        mask = input_batch['attention_mask'].unsqueeze(-1)  \n",
    "        masked_feats = raw_feats * mask                     \n",
    "        lengths = mask.sum(dim=1).clamp(min=1)            \n",
    "        result = masked_feats.sum(dim=1) / lengths \n",
    "    elif agg == 'last':\n",
    "        last_token_idxs = input_batch['attention_mask'].sum(dim=1) - 1  \n",
    "        batch_indices = torch.arange(raw_feats.size(0), device=raw_feats.device)\n",
    "        result = raw_feats[batch_indices, last_token_idxs]  \n",
    "    elif agg == 'none':\n",
    "        mask = input_batch['attention_mask'].unsqueeze(-1)  \n",
    "        result = raw_feats * mask   \n",
    "\n",
    "    del hidden_states, raw_feats\n",
    "\n",
    "    return result"
   ]
  },
  {
   "cell_type": "code",
   "execution_count": 20,
   "id": "09cf17c6-82d6-4171-a0ed-c45deaa7aeaf",
   "metadata": {},
   "outputs": [],
   "source": [
    "def get_binned_acts_batch(dataloader, model, sae, sae_layer, feature):\n",
    "    \n",
    "    tensor_list = []\n",
    "\n",
    "    with torch.no_grad():\n",
    "        for batch_inputs in tqdm(dataloader):\n",
    "            batch_inputs = {k: v.to(model.device) for k, v in batch_inputs.items()}\n",
    "            attention_mask = batch_inputs['attention_mask'].cpu()\n",
    "\n",
    "            result = get_sae_acts(model, sae, batch_inputs, sae_layer, agg='none')  \n",
    "            feature_acts = result[:, :, feature].cpu()  \n",
    "\n",
    "            binned_batch = bin_token_activations_batch(feature_acts, attention_mask)\n",
    "            tensor_list.append(binned_batch)\n",
    "            \n",
    "    # Clear memory\n",
    "    del batch_inputs, result, feature_acts, attention_mask\n",
    "    torch.cuda.empty_cache()\n",
    "    gc.collect()\n",
    "\n",
    "    return torch.cat(tensor_list, dim=0)"
   ]
  },
  {
   "cell_type": "code",
   "execution_count": 21,
   "id": "86a92e05-2ec8-42e3-aefc-8dfd8d35ed42",
   "metadata": {},
   "outputs": [
    {
     "data": {
      "text/plain": [
       "[14012, 6688, 3094, 31076, 4923, 22315, 15155, 6396, 30022, 17135]"
      ]
     },
     "execution_count": 21,
     "metadata": {},
     "output_type": "execute_result"
    }
   ],
   "source": [
    "query_feats"
   ]
  },
  {
   "cell_type": "code",
   "execution_count": 25,
   "id": "810c7e93-5f83-4281-b8f2-fd0aa2cc4c88",
   "metadata": {},
   "outputs": [],
   "source": [
    "queries = [format_prompt_aqua(i, reasoning=False, include_options=False) for i in aqua_ds]"
   ]
  },
  {
   "cell_type": "code",
   "execution_count": 26,
   "id": "99a2956d-6198-4a59-8f41-59d505e70938",
   "metadata": {},
   "outputs": [],
   "source": [
    "query_tokenized = tokenizer(queries, return_tensors='pt', padding=True, truncation=True)\n",
    "query_collate_fn = partial(collate_tokenized, tokenized=query_tokenized)\n",
    "dataset = IndexedPromptDataset(len(questions))\n",
    "dataloader = DataLoader(dataset, batch_size=8, collate_fn=query_collate_fn)"
   ]
  },
  {
   "cell_type": "code",
   "execution_count": 31,
   "id": "06244a56-f189-4812-8eaf-dd520c272cc1",
   "metadata": {},
   "outputs": [
    {
     "name": "stderr",
     "output_type": "stream",
     "text": [
      "100%|██████████| 32/32 [00:09<00:00,  3.29it/s]\n"
     ]
    }
   ],
   "source": [
    "query_result = get_binned_acts_batch(dataloader, model, sae, 25, 14012) "
   ]
  },
  {
   "cell_type": "code",
   "execution_count": 32,
   "id": "8262f984-9f51-48eb-903f-fe8174183b54",
   "metadata": {},
   "outputs": [
    {
     "data": {
      "text/plain": [
       "tensor([2.5607, 3.5547, 1.6256, 0.5241, 0.1733, 0.1261, 0.0710, 0.0446, 0.0157,\n",
       "        0.0137, 0.0269, 0.0196, 0.0088, 0.0166, 0.0122, 0.0371, 0.0159, 0.0566,\n",
       "        0.2834, 1.7413])"
      ]
     },
     "execution_count": 32,
     "metadata": {},
     "output_type": "execute_result"
    }
   ],
   "source": [
    "query_result.mean(axis=0)"
   ]
  },
  {
   "cell_type": "code",
   "execution_count": 34,
   "id": "ce3ee607-5d40-49a6-8e1f-4551c49ad6fd",
   "metadata": {},
   "outputs": [
    {
     "data": {
      "image/png": "[encoded data removed]",
      "text/plain": [
       "<Figure size 640x480 with 1 Axes>"
      ]
     },
     "metadata": {},
     "output_type": "display_data"
    }
   ],
   "source": [
    "x = np.linspace(5, 100, 20)\n",
    "y = query_result.mean(axis=0).detach()\n",
    "plt.plot(x, y)\n",
    "plt.ylabel(\"Activation Value\")\n",
    "plt.xlabel(\"% of Query\")\n",
    "plt.title(\"Mean Activation of Feature 14012 by Query Location\")\n",
    "# plt.savefig(\"query_14012.png\", dpi=300);"
   ]
  },
  {
   "cell_type": "code",
   "execution_count": 36,
   "id": "08439930-383d-4260-b753-89260f3fe234",
   "metadata": {},
   "outputs": [
    {
     "data": {
      "text/plain": [
       "[10527, 12520, 5333, 26077, 2184, 5911, 29395, 29825, 11762, 30538]"
      ]
     },
     "execution_count": 36,
     "metadata": {},
     "output_type": "execute_result"
    }
   ],
   "source": [
    "preds_feats"
   ]
  },
  {
   "cell_type": "code",
   "execution_count": 37,
   "id": "2861b2f2-3126-424d-b62e-d3fd83523670",
   "metadata": {},
   "outputs": [],
   "source": [
    "cot_tokenized = tokenizer(cots, return_tensors='pt', padding=True, truncation=True)\n",
    "cot_collate_fn = partial(collate_tokenized, tokenized=cot_tokenized)\n",
    "dataset = IndexedPromptDataset(len(cots))\n",
    "dataloader = DataLoader(dataset, batch_size=8, collate_fn=cot_collate_fn)"
   ]
  },
  {
   "cell_type": "code",
   "execution_count": 38,
   "id": "b789601a-eaae-4212-bba6-70c979e7f4a0",
   "metadata": {},
   "outputs": [
    {
     "name": "stderr",
     "output_type": "stream",
     "text": [
      "100%|██████████| 32/32 [00:45<00:00,  1.41s/it]\n"
     ]
    }
   ],
   "source": [
    "cot_result = get_binned_acts_batch(dataloader, model, sae, 25, 10527) "
   ]
  },
  {
   "cell_type": "code",
   "execution_count": 40,
   "id": "819bb2e6-aa1e-4020-97ba-ab8cb391504e",
   "metadata": {},
   "outputs": [
    {
     "data": {
      "image/png": "[encoded data removed]",
      "text/plain": [
       "<Figure size 640x480 with 1 Axes>"
      ]
     },
     "metadata": {},
     "output_type": "display_data"
    }
   ],
   "source": [
    "x = np.linspace(5, 100, 20)\n",
    "y = cot_result.mean(axis=0).detach()\n",
    "plt.plot(x, y)\n",
    "plt.ylabel(\"Activation Value\")\n",
    "plt.xlabel(\"% of CoT\")\n",
    "plt.title(\"Mean Activation of Feature 10527 by CoT Location\")\n",
    "# plt.savefig(\"cot_10527.png\", dpi=300);"
   ]
  },
  {
   "cell_type": "code",
   "execution_count": null,
   "id": "9b8b607d-1538-4a3a-82cb-8fc1cb30793c",
   "metadata": {},
   "outputs": [],
   "source": []
  }
 ],
 "metadata": {
  "kernelspec": {
   "display_name": "Python 3 (ipykernel)",
   "language": "python",
   "name": "python3"
  },
  "language_info": {
   "codemirror_mode": {
    "name": "ipython",
    "version": 3
   },
   "file_extension": ".py",
   "mimetype": "text/x-python",
   "name": "python",
   "nbconvert_exporter": "python",
   "pygments_lexer": "ipython3",
   "version": "3.10.13"
  }
 },
 "nbformat": 4,
 "nbformat_minor": 5
}
