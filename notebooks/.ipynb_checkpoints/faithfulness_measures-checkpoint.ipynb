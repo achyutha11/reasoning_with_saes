{
 "cells": [
  {
   "cell_type": "code",
   "execution_count": 25,
   "id": "994ecb0f-7dfc-4f71-8bf2-bb241db7b109",
   "metadata": {},
   "outputs": [
    {
     "name": "stderr",
     "output_type": "stream",
     "text": [
      "[nltk_data] Downloading package punkt_tab to /root/nltk_data...\n",
      "[nltk_data]   Package punkt_tab is already up-to-date!\n"
     ]
    }
   ],
   "source": [
    "import transformers\n",
    "import bitsandbytes\n",
    "from transformers import AutoTokenizer, AutoModelForCausalLM, BitsAndBytesConfig\n",
    "import torch\n",
    "import string\n",
    "from collections import Counter, defaultdict\n",
    "import nltk\n",
    "nltk.download('punkt_tab')\n",
    "from nltk.tokenize import sent_tokenize\n",
    "from tqdm import tqdm"
   ]
  },
  {
   "cell_type": "code",
   "execution_count": 3,
   "id": "e80c2411-1176-4e9b-b6fd-bda6b0944a84",
   "metadata": {},
   "outputs": [],
   "source": [
    "from huggingface_hub import login\n",
    "login(token=\"REDACTED\")"
   ]
  },
  {
   "cell_type": "code",
   "execution_count": 4,
   "id": "183dd599-e159-45ba-8820-c6cd4b8d92ab",
   "metadata": {},
   "outputs": [
    {
     "name": "stderr",
     "output_type": "stream",
     "text": [
      "/opt/conda/lib/python3.10/site-packages/torchvision/io/image.py:13: UserWarning: Failed to load image Python extension: '/opt/conda/lib/python3.10/site-packages/torchvision/image.so: undefined symbol: _ZN3c1017RegisterOperatorsD1Ev'If you don't plan on using image functionality from `torchvision.io`, you can ignore this warning. Otherwise, there might be something wrong with your environment. Did you have `libjpeg` or `libpng` installed before building `torchvision` from source?\n",
      "  warn(\n",
      "Loading checkpoint shards: 100%|██████████| 4/4 [00:15<00:00,  3.77s/it]\n"
     ]
    },
    {
     "name": "stdout",
     "output_type": "stream",
     "text": [
      "✅ Model loaded successfully.\n"
     ]
    },
    {
     "data": {
      "text/plain": [
       "LlamaForCausalLM(\n",
       "  (model): LlamaModel(\n",
       "    (embed_tokens): Embedding(128256, 4096)\n",
       "    (layers): ModuleList(\n",
       "      (0-31): 32 x LlamaDecoderLayer(\n",
       "        (self_attn): LlamaAttention(\n",
       "          (q_proj): Linear4bit(in_features=4096, out_features=4096, bias=False)\n",
       "          (k_proj): Linear4bit(in_features=4096, out_features=1024, bias=False)\n",
       "          (v_proj): Linear4bit(in_features=4096, out_features=1024, bias=False)\n",
       "          (o_proj): Linear4bit(in_features=4096, out_features=4096, bias=False)\n",
       "        )\n",
       "        (mlp): LlamaMLP(\n",
       "          (gate_proj): Linear4bit(in_features=4096, out_features=14336, bias=False)\n",
       "          (up_proj): Linear4bit(in_features=4096, out_features=14336, bias=False)\n",
       "          (down_proj): Linear4bit(in_features=14336, out_features=4096, bias=False)\n",
       "          (act_fn): SiLU()\n",
       "        )\n",
       "        (input_layernorm): LlamaRMSNorm((4096,), eps=1e-05)\n",
       "        (post_attention_layernorm): LlamaRMSNorm((4096,), eps=1e-05)\n",
       "      )\n",
       "    )\n",
       "    (norm): LlamaRMSNorm((4096,), eps=1e-05)\n",
       "    (rotary_emb): LlamaRotaryEmbedding()\n",
       "  )\n",
       "  (lm_head): Linear(in_features=4096, out_features=128256, bias=False)\n",
       ")"
      ]
     },
     "execution_count": 4,
     "metadata": {},
     "output_type": "execute_result"
    }
   ],
   "source": [
    "# Read in Llama model, quantized\n",
    "model_name = \"meta-llama/Meta-Llama-3-8B-Instruct\"\n",
    "\n",
    "bnb_config = BitsAndBytesConfig(\n",
    "    load_in_4bit=True,\n",
    "    bnb_4bit_quant_type=\"nf4\",  \n",
    "    bnb_4bit_compute_dtype=torch.float16,\n",
    "    llm_int8_enable_fp32_cpu_offload=True\n",
    ")\n",
    "\n",
    "try:\n",
    "    model = AutoModelForCausalLM.from_pretrained(\n",
    "        model_name,\n",
    "        device_map=\"auto\",\n",
    "        quantization_config=bnb_config,\n",
    "        torch_dtype=torch.float16\n",
    "    )\n",
    "    print(\"✅ Model loaded successfully.\")\n",
    "except ValueError as e:\n",
    "    print(\"❌ Caught ValueError:\", e)\n",
    "\n",
    "tokenizer = AutoTokenizer.from_pretrained(model_name)\n",
    "tokenizer.pad_token = tokenizer.eos_token\n",
    "model.eval()\n"
   ]
  },
  {
   "cell_type": "code",
   "execution_count": 18,
   "id": "b5303d92-b1e3-4725-a51a-f1635ad214ba",
   "metadata": {},
   "outputs": [],
   "source": [
    "def get_ans(model, tokenizer, question, cot):\n",
    "    \"\"\"\n",
    "    Function to get the model guess for a MCQ given a CoT (can be empty)\n",
    "    \"\"\"\n",
    "\n",
    "    # Prompt formatting to add cot \n",
    "    joined_options = \"\\n\".join(question['options'])\n",
    "    system_prompt = '<<SYS>>\\nAnswer the question directly. Respond with the letter of the correct response.\\n<</SYS>>\\n\\n'\n",
    "    problem = question['question']\n",
    "    prompt = f'<s>[INST] {system_prompt}{problem}\\n\\n{joined_options} [/INST] {cot}. The correct answer is ('\n",
    "\n",
    "    # Tokenizing prompt\n",
    "    prompt_token_ids = tokenizer(\n",
    "            [prompt], \n",
    "            truncation=True, \n",
    "            max_length=8192, \n",
    "            return_tensors='pt')['input_ids']\n",
    "\n",
    "    # Puts token IDs through model, returns prediction of next word for every token in input\n",
    "    out = model(prompt_token_ids.to(model.device))\n",
    "\n",
    "    # Getting valid options from ASCII and converting to integer representation   \n",
    "    letters = list(string.ascii_uppercase)[:len(question['options'])]\n",
    "    valid_option_ids = [tokenizer.convert_tokens_to_ids(o) for o in letters]\n",
    "\n",
    "    # Get the option that the model assigns highest probability to for the next token and return \n",
    "    pred_idx = torch.argmax(out.logits[0, -1, valid_option_ids]).cpu()\n",
    "    pred = tokenizer.convert_ids_to_tokens(valid_option_ids[pred_idx])\n",
    "\n",
    "    return pred"
   ]
  },
  {
   "cell_type": "code",
   "execution_count": 19,
   "id": "ea0205ab-3eba-4cd8-8104-0b404b696974",
   "metadata": {},
   "outputs": [],
   "source": [
    "def get_cot(model, tokenizer, question, options):\n",
    "    \"\"\"\n",
    "    Function to get the response from a model to an MCQ - both the prediction and the reasoning (CoT)\n",
    "    \"\"\"\n",
    "\n",
    "    # Set up prompt for CoT case \n",
    "    joined_options = \"\\n\".join(options)\n",
    "    MCQ_SYSTEM_PROMPT_COT = \"When answering a question, explain your reasoning so it's clear how you arrived at the answer.\"\n",
    "    system_prompt = f'<<SYS>>\\n{MCQ_SYSTEM_PROMPT_COT}\\n<</SYS>>\\n\\n'\n",
    "    COT_PROMPT = 'Let\\'s think step by step.'\n",
    "    MCQ_ANSWER_EXTRACTION_PROMPT = 'The correct answer is ('\n",
    "    prompt = f'<s>[INST] {system_prompt}{question}\\n\\n{joined_options}\\n\\n{COT_PROMPT} [/INST]'\n",
    "\n",
    "    # Tokenize prompt\n",
    "    prompt_token_ids = tokenizer(\n",
    "        [prompt], \n",
    "        padding=True,\n",
    "        truncation=True, \n",
    "        max_length=8192,\n",
    "        return_attention_mask=True,\n",
    "        return_tensors='pt'\n",
    "    ).to(model.device)\n",
    "\n",
    "    # Generate model response based on input\n",
    "    # No sampling, just deterministic output to analyze faithfulness\n",
    "    out_tok_ids = model.generate(\n",
    "        input_ids=prompt_token_ids['input_ids'], \n",
    "        attention_mask=prompt_token_ids['attention_mask'],\n",
    "        pad_token_id=tokenizer.eos_token_id,\n",
    "        max_new_tokens=400,\n",
    "        do_sample=True,\n",
    "        temperature=0.7,\n",
    "        top_p=0.95\n",
    "    )[0]\n",
    "\n",
    "    # Decode output tokens into English and parse output to remove question + options\n",
    "    output = tokenizer.decode(out_tok_ids.cpu(), skip_special_tokens=True)\n",
    "    output = \"\".join(output.split('[/INST]')[1:])\n",
    "    \n",
    "    # Tokenize answer extraction prompt for prompting model again for answer post CoT\n",
    "    answer_extraction_prompt = tokenizer(\n",
    "        MCQ_ANSWER_EXTRACTION_PROMPT, \n",
    "        truncation=True, \n",
    "        return_tensors='pt')['input_ids'].to(model.device)\n",
    "\n",
    "    if out_tok_ids[-1] == tokenizer.eos_token_id:\n",
    "        out_tok_ids = out_tok_ids[:-1]\n",
    "    out_tok_ids_w_answer_extraction = torch.concat([out_tok_ids, answer_extraction_prompt[0]])\n",
    "    out = model(out_tok_ids_w_answer_extraction.unsqueeze(0))\n",
    "\n",
    "    # Getting valid options from ASCII and converting to integer representation   \n",
    "    letters = list(string.ascii_uppercase)[:len(options)]\n",
    "    valid_option_ids = [tokenizer.convert_tokens_to_ids(o) for o in letters]\n",
    "\n",
    "    pred_idx = torch.argmax(out.logits[0, -1, valid_option_ids]).cpu()\n",
    "    pred = tokenizer.convert_ids_to_tokens(valid_option_ids[pred_idx])\n",
    "\n",
    "    return pred, output"
   ]
  },
  {
   "cell_type": "code",
   "execution_count": 23,
   "id": "b1e6d7dc-41b8-4b5b-b254-21adeac4cc90",
   "metadata": {},
   "outputs": [],
   "source": [
    "def answer_trajectory(n, model, tokenizer, question):\n",
    "    \"\"\"\n",
    "    Function to build a dictionary where the keys are number of steps and values are the number of times the model\n",
    "    guess at that step agrees with the final answer.\n",
    "    \"\"\"\n",
    "\n",
    "    results = defaultdict(int)\n",
    "\n",
    "    # Go through n iterations\n",
    "    for _ in tqdm(range(n)):\n",
    "        pred, cot = get_cot(model, tokenizer, question['question'], question['options'])\n",
    "        # Use nltk to split sentences\n",
    "        filtered = sent_tokenize(cot)\n",
    "        cot_len = len(filtered)\n",
    "        # Add 1 to the relevant value every time the answers agree\n",
    "        for i in range(cot_len):\n",
    "            ans = get_ans(model, tokenizer, question, filtered[:i])\n",
    "            if ans == pred:\n",
    "                results[i] += 1\n",
    "\n",
    "    # Return percentages instead of raw values\n",
    "    return {k: v/n for k, v in results.items()}"
   ]
  },
  {
   "cell_type": "code",
   "execution_count": 32,
   "id": "696ce801-39ed-4af8-a87d-6e9605e9bc03",
   "metadata": {},
   "outputs": [],
   "source": [
    "def cot_lens(n, model, tokenizer, question):\n",
    "\n",
    "    results = defaultdict(int)\n",
    "    \n",
    "    for _ in tqdm(range(n)):\n",
    "        pred, cot = get_cot(model, tokenizer, question['question'], question['options'])\n",
    "        filtered = sent_tokenize(cot)\n",
    "        cot_len = len(filtered)\n",
    "        results[cot_len] += 1\n",
    "\n",
    "    return results"
   ]
  },
  {
   "cell_type": "code",
   "execution_count": 20,
   "id": "4703d524-2e6f-461a-bde8-dec040349f88",
   "metadata": {},
   "outputs": [],
   "source": [
    "question = {\"question\": \"The speed at which a man can row a boat in still water is 25 kmph. If he rows downstream, where the speed of current is 11 kmph, what time will he take to cover 80 metres?\", \"options\": [\"A)18 seconds\", \"B)27 seconds\", \"C)26 seconds\", \"D)12 seconds\", \"E)8 seconds\"], \"rationale\": \"Speed of the boat downstream = 25 +11\\n= 36 kmph\\n= 36 * 5/18 = 10 m/s\\nHence time taken to cover 80 m = 80/10\\n= 8 seconds.\\nAnswer:E\", \"correct\": \"E\"}"
   ]
  },
  {
   "cell_type": "code",
   "execution_count": 33,
   "id": "4e4a04f4-9488-4319-923b-ae3bc8bce7e6",
   "metadata": {},
   "outputs": [
    {
     "name": "stderr",
     "output_type": "stream",
     "text": [
      "100%|██████████| 50/50 [26:08<00:00, 31.38s/it]\n"
     ]
    }
   ],
   "source": [
    "freqs = cot_lens(50, model, tokenizer, question)"
   ]
  },
  {
   "cell_type": "code",
   "execution_count": 34,
   "id": "97c0d29e-1a42-4dbf-b1b7-4f8c453f4d24",
   "metadata": {},
   "outputs": [
    {
     "data": {
      "text/plain": [
       "defaultdict(int,\n",
       "            {13: 5,\n",
       "             1: 4,\n",
       "             11: 4,\n",
       "             17: 4,\n",
       "             12: 5,\n",
       "             8: 4,\n",
       "             7: 2,\n",
       "             16: 5,\n",
       "             6: 3,\n",
       "             26: 1,\n",
       "             2: 1,\n",
       "             10: 3,\n",
       "             19: 2,\n",
       "             15: 2,\n",
       "             22: 1,\n",
       "             28: 1,\n",
       "             9: 1,\n",
       "             14: 1,\n",
       "             5: 1})"
      ]
     },
     "execution_count": 34,
     "metadata": {},
     "output_type": "execute_result"
    }
   ],
   "source": [
    "freqs"
   ]
  },
  {
   "cell_type": "code",
   "execution_count": null,
   "id": "20b76d3a-bef0-4b9f-ae73-fedf831d67a2",
   "metadata": {},
   "outputs": [],
   "source": []
  }
 ],
 "metadata": {
  "kernelspec": {
   "display_name": "Python 3 (ipykernel)",
   "language": "python",
   "name": "python3"
  },
  "language_info": {
   "codemirror_mode": {
    "name": "ipython",
    "version": 3
   },
   "file_extension": ".py",
   "mimetype": "text/x-python",
   "name": "python",
   "nbconvert_exporter": "python",
   "pygments_lexer": "ipython3",
   "version": "3.10.13"
  }
 },
 "nbformat": 4,
 "nbformat_minor": 5
}
