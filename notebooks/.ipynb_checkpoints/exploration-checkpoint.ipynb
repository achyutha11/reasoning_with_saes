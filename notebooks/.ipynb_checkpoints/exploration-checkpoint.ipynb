{
 "cells": [
  {
   "cell_type": "code",
   "execution_count": 1,
   "id": "a38c3145-08df-4c98-8ee1-aafc799e7dbc",
   "metadata": {},
   "outputs": [
    {
     "name": "stderr",
     "output_type": "stream",
     "text": [
      "/opt/conda/lib/python3.10/site-packages/tqdm/auto.py:21: TqdmWarning: IProgress not found. Please update jupyter and ipywidgets. See https://ipywidgets.readthedocs.io/en/stable/user_install.html\n",
      "  from .autonotebook import tqdm as notebook_tqdm\n",
      "/opt/conda/lib/python3.10/site-packages/torchvision/io/image.py:13: UserWarning: Failed to load image Python extension: '/opt/conda/lib/python3.10/site-packages/torchvision/image.so: undefined symbol: _ZN3c1017RegisterOperatorsD1Ev'If you don't plan on using image functionality from `torchvision.io`, you can ignore this warning. Otherwise, there might be something wrong with your environment. Did you have `libjpeg` or `libpng` installed before building `torchvision` from source?\n",
      "  warn(\n"
     ]
    }
   ],
   "source": [
    "from transformers import AutoModelForCausalLM, AutoTokenizer, BitsAndBytesConfig\n",
    "import torch\n",
    "from sae_lens import SAE\n",
    "import transformer_lens\n",
    "import transformer_lens.utils as utils\n",
    "from transformer_lens import HookedTransformer\n",
    "from functools import partial\n",
    "import string\n",
    "import bitsandbytes\n",
    "from datasets import load_dataset\n",
    "from tqdm import tqdm\n",
    "import numpy as np\n",
    "from scipy.stats import trim_mean\n",
    "from torch.utils.data import DataLoader, Dataset\n",
    "import gc\n",
    "import time"
   ]
  },
  {
   "cell_type": "code",
   "execution_count": 2,
   "id": "78c72650-c568-40a1-aea5-7e2240a5a61e",
   "metadata": {},
   "outputs": [],
   "source": [
    "from huggingface_hub import login\n",
    "login(token=\"REDACTED\")"
   ]
  },
  {
   "cell_type": "code",
   "execution_count": 58,
   "id": "524a4797-71e6-4785-aee2-06f043b02870",
   "metadata": {},
   "outputs": [],
   "source": [
    "# torch.cuda.empty_cache()   \n",
    "# gc.collect()"
   ]
  },
  {
   "cell_type": "code",
   "execution_count": 3,
   "id": "72d9a06e-3bd8-442c-bbf5-eea39ecbbfad",
   "metadata": {},
   "outputs": [],
   "source": [
    "bnb_config = BitsAndBytesConfig(\n",
    "    load_in_4bit=True,\n",
    "    bnb_4bit_quant_type=\"nf4\",  \n",
    "    bnb_4bit_compute_dtype=torch.float16,\n",
    "    llm_int8_enable_fp32_cpu_offload=True\n",
    ")"
   ]
  },
  {
   "cell_type": "code",
   "execution_count": 4,
   "id": "f6056570-a450-4f52-8a46-c992280524ff",
   "metadata": {},
   "outputs": [
    {
     "name": "stderr",
     "output_type": "stream",
     "text": [
      "Loading checkpoint shards: 100%|██████████| 2/2 [00:20<00:00, 10.11s/it]\n"
     ]
    }
   ],
   "source": [
    "device = utils.get_device()\n",
    "model_name = 'deepseek-ai/DeepSeek-R1-Distill-Llama-8B'\n",
    "model = AutoModelForCausalLM.from_pretrained(\n",
    "    model_name,\n",
    "    quantization_config=bnb_config\n",
    ")"
   ]
  },
  {
   "cell_type": "code",
   "execution_count": 5,
   "id": "1e9d6261-4db5-4238-ab5a-726513105c20",
   "metadata": {},
   "outputs": [
    {
     "data": {
      "text/plain": [
       "LlamaForCausalLM(\n",
       "  (model): LlamaModel(\n",
       "    (embed_tokens): Embedding(128256, 4096)\n",
       "    (layers): ModuleList(\n",
       "      (0-31): 32 x LlamaDecoderLayer(\n",
       "        (self_attn): LlamaAttention(\n",
       "          (q_proj): Linear4bit(in_features=4096, out_features=4096, bias=False)\n",
       "          (k_proj): Linear4bit(in_features=4096, out_features=1024, bias=False)\n",
       "          (v_proj): Linear4bit(in_features=4096, out_features=1024, bias=False)\n",
       "          (o_proj): Linear4bit(in_features=4096, out_features=4096, bias=False)\n",
       "        )\n",
       "        (mlp): LlamaMLP(\n",
       "          (gate_proj): Linear4bit(in_features=4096, out_features=14336, bias=False)\n",
       "          (up_proj): Linear4bit(in_features=4096, out_features=14336, bias=False)\n",
       "          (down_proj): Linear4bit(in_features=14336, out_features=4096, bias=False)\n",
       "          (act_fn): SiLU()\n",
       "        )\n",
       "        (input_layernorm): LlamaRMSNorm((4096,), eps=1e-05)\n",
       "        (post_attention_layernorm): LlamaRMSNorm((4096,), eps=1e-05)\n",
       "      )\n",
       "    )\n",
       "    (norm): LlamaRMSNorm((4096,), eps=1e-05)\n",
       "    (rotary_emb): LlamaRotaryEmbedding()\n",
       "  )\n",
       "  (lm_head): Linear(in_features=4096, out_features=128256, bias=False)\n",
       ")"
      ]
     },
     "execution_count": 5,
     "metadata": {},
     "output_type": "execute_result"
    }
   ],
   "source": [
    "model.eval()"
   ]
  },
  {
   "cell_type": "code",
   "execution_count": 6,
   "id": "ab54636b-5cc5-4018-8544-e330ce149a79",
   "metadata": {},
   "outputs": [],
   "source": [
    "tokenizer = AutoTokenizer.from_pretrained(model_name)"
   ]
  },
  {
   "cell_type": "code",
   "execution_count": 7,
   "id": "10b1af05-f1e4-49cf-b97b-42cac36bd6e5",
   "metadata": {},
   "outputs": [],
   "source": [
    "release = \"llama_scope_r1_distill\"\n",
    "sae_id = \"l25r_400m_slimpajama_400m_openr1_math\"\n",
    "sae, cfg_dict, sparsity = SAE.from_pretrained_with_cfg_and_sparsity(release, sae_id)\n",
    "sae = sae.to(device)"
   ]
  },
  {
   "cell_type": "code",
   "execution_count": 8,
   "id": "97374fe5-16af-4809-b7e8-32852c01c54a",
   "metadata": {},
   "outputs": [],
   "source": [
    "def format_prompt_aqua(query, reasoning=True, include_options=True):\n",
    "    COT_PROMPT = r'Please reason step by step, and put your final answer within \\boxed{}.'\n",
    "    question, options = query['question'], query['options']\n",
    "    joined_options = \"\\n\".join(options) if include_options else \"\"\n",
    "    if reasoning:\n",
    "        return f'<s>[INST] {question}{joined_options}\\n{COT_PROMPT} [/INST] \\n<think>\\n'\n",
    "    else:\n",
    "        return f'<s>[INST] {question}{joined_options}\\n [/INST] \\n'"
   ]
  },
  {
   "cell_type": "code",
   "execution_count": 9,
   "id": "429e7732-5859-40fd-80d3-9f8c97d24448",
   "metadata": {},
   "outputs": [],
   "source": [
    "def format_prompt_tqa(question, reasoning=True):\n",
    "    COT_PROMPT = r'Please reason step by step, and put your final answer within \\boxed{}.'\n",
    "    if reasoning:\n",
    "        return f'<s>[INST] {question}\\n{COT_PROMPT} [/INST] \\n<think>\\n'\n",
    "    else:\n",
    "        return f'<s>[INST] {question}\\n [/INST] \\n'  "
   ]
  },
  {
   "cell_type": "code",
   "execution_count": null,
   "id": "f076f2ce-66aa-4aec-9824-e114dae39b51",
   "metadata": {},
   "outputs": [],
   "source": []
  },
  {
   "cell_type": "code",
   "execution_count": 46,
   "id": "eab75eee-aa57-460c-b6bb-cdcc304d6c9f",
   "metadata": {},
   "outputs": [],
   "source": [
    "class TokenizedPromptDataset(Dataset):\n",
    "    def __init__(self, tokenized_inputs, queries):\n",
    "        self.input_ids = tokenized_inputs['input_ids']\n",
    "        self.attn_masks = tokenized_inputs['attention_mask']\n",
    "        self.queries = queries\n",
    "\n",
    "    def __len__(self):\n",
    "        return len(self.queries)\n",
    "\n",
    "    def __getitem__(self, idx):\n",
    "        return {\n",
    "            'input_ids': self.input_ids[idx],\n",
    "            'attention_mask': self.attn_masks[idx],\n",
    "            'query': self.queries[idx]\n",
    "        }"
   ]
  },
  {
   "cell_type": "code",
   "execution_count": 48,
   "id": "da0ea104-94a6-460a-be05-8c06e4df2e7f",
   "metadata": {},
   "outputs": [],
   "source": [
    "def collate_tokenized(batch):\n",
    "    input_ids = torch.stack([item['input_ids'] for item in batch])\n",
    "    attention_mask = torch.stack([item['attention_mask'] for item in batch])\n",
    "    queries = [item['query'] for item in batch]\n",
    "    return {'input_ids': input_ids, 'attention_mask': attention_mask}, queries"
   ]
  },
  {
   "cell_type": "code",
   "execution_count": 49,
   "id": "6f115fea-0c1f-4797-90ab-ccf6acc10683",
   "metadata": {},
   "outputs": [],
   "source": [
    "def get_cot_batch(ds, batch_size, tokenizer, model, collate_fn):\n",
    "    \n",
    "    tokenized = tokenizer(\n",
    "        [format_prompt_aqua(q, reasoning=True) for q in ds],\n",
    "        return_tensors='pt',\n",
    "        padding=True,\n",
    "        truncation=True,\n",
    "        max_length=8192\n",
    "    )\n",
    "\n",
    "    dataset = TokenizedPromptDataset(tokenized, ds)\n",
    "    dataloader = DataLoader(dataset, batch_size=batch_size, collate_fn=collate_fn)\n",
    "\n",
    "    all_preds = []\n",
    "    all_generations = []\n",
    "    MCQ_ANSWER_PROMPT = 'The correct answer is ('\n",
    "    \n",
    "    for batch_inputs, queries in tqdm(dataloader):\n",
    "        \n",
    "        input_ids = batch_inputs['input_ids'].to(model.device)\n",
    "        attention_mask = batch_inputs['attention_mask'].to(model.device)\n",
    "\n",
    "        with torch.inference_mode():\n",
    "            output_ids = model.generate(\n",
    "                input_ids=input_ids,\n",
    "                attention_mask=attention_mask,\n",
    "                max_new_tokens=256,\n",
    "                do_sample=True,\n",
    "                temperature=0.6,\n",
    "                top_p=0.95,\n",
    "                pad_token_id=tokenizer.eos_token_id\n",
    "            )\n",
    "    \n",
    "        decoded = tokenizer.batch_decode(output_ids, skip_special_tokens=False)\n",
    "        decoded = [\"\".join(out.split('[/INST]')[1:]) for out in decoded]\n",
    "        all_generations.extend(decoded)\n",
    "    \n",
    "        # Now append MCQ answer prompt\n",
    "        answer_prompts = [text + MCQ_ANSWER_PROMPT for text in decoded]\n",
    "        answer_inputs = tokenizer(answer_prompts, return_tensors='pt', padding=True, truncation=True).to(model.device)\n",
    "    \n",
    "        with torch.inference_mode():\n",
    "            out = model(**answer_inputs)\n",
    "    \n",
    "        for i, query in enumerate(queries):\n",
    "            options = query['options']\n",
    "            letters = list(string.ascii_uppercase)[:len(options)]\n",
    "            valid_ids = tokenizer.convert_tokens_to_ids(letters)\n",
    "            logits = out.logits[i, -1, valid_ids]\n",
    "            pred_idx = torch.argmax(logits).item()\n",
    "            all_preds.append(letters[pred_idx])\n",
    "\n",
    "    return all_preds, all_generations\n",
    "    "
   ]
  },
  {
   "cell_type": "code",
   "execution_count": 53,
   "id": "ae4d37c0-8d58-43c4-8e58-09b01b0e711a",
   "metadata": {},
   "outputs": [
    {
     "name": "stderr",
     "output_type": "stream",
     "text": [
      "100%|██████████| 16/16 [07:37<00:00, 28.56s/it]\n"
     ]
    }
   ],
   "source": [
    "preds, gens = get_cot_batch(aqua_ds, 16, tokenizer, model, collate_tokenized)"
   ]
  },
  {
   "cell_type": "code",
   "execution_count": null,
   "id": "7d647975-5f98-4219-ae40-67d8d0d5c825",
   "metadata": {},
   "outputs": [],
   "source": []
  },
  {
   "cell_type": "code",
   "execution_count": null,
   "id": "c2afc0c0-21e3-46b9-b232-25db1bb59f07",
   "metadata": {},
   "outputs": [],
   "source": []
  },
  {
   "cell_type": "code",
   "execution_count": null,
   "id": "8386a041-d61a-43aa-a0ad-e8179aa61a10",
   "metadata": {},
   "outputs": [],
   "source": []
  },
  {
   "cell_type": "code",
   "execution_count": null,
   "id": "c01abd4c-635d-483e-874e-c91060f6140f",
   "metadata": {},
   "outputs": [],
   "source": []
  },
  {
   "cell_type": "code",
   "execution_count": null,
   "id": "44eeeee8-d107-43fe-9526-83498af4bc2d",
   "metadata": {},
   "outputs": [],
   "source": []
  },
  {
   "cell_type": "code",
   "execution_count": null,
   "id": "95e53111-3fa5-46da-94be-ca6ca601fa08",
   "metadata": {},
   "outputs": [],
   "source": []
  },
  {
   "cell_type": "code",
   "execution_count": 60,
   "id": "8907360a-096d-4e0e-bc82-a3bf0d8738b2",
   "metadata": {},
   "outputs": [],
   "source": [
    "aqua_ds = load_dataset('aqua_rat', 'raw', split='test')"
   ]
  },
  {
   "cell_type": "code",
   "execution_count": 61,
   "id": "5df4f50b-548f-4aeb-8262-c346fca5e058",
   "metadata": {},
   "outputs": [
    {
     "data": {
      "text/plain": [
       "Dataset({\n",
       "    features: ['question', 'options', 'rationale', 'correct'],\n",
       "    num_rows: 254\n",
       "})"
      ]
     },
     "execution_count": 61,
     "metadata": {},
     "output_type": "execute_result"
    }
   ],
   "source": [
    "aqua_ds"
   ]
  },
  {
   "cell_type": "code",
   "execution_count": 62,
   "id": "22b4bdfb-6d60-4caf-a45b-5b231941a9e3",
   "metadata": {},
   "outputs": [],
   "source": [
    "def get_sae_acts(input_batch, layer, agg='mean'):\n",
    "\n",
    "    activation_dict = {}\n",
    "\n",
    "    def hook_fn(module, input, output):\n",
    "        activation_dict[\"hidden\"] = output\n",
    "\n",
    "    hook = model.model.layers[layer].register_forward_hook(hook_fn)\n",
    "\n",
    "    model.eval()\n",
    "\n",
    "    with torch.no_grad():\n",
    "        _ = model(**input_batch)\n",
    "\n",
    "    hook.remove()\n",
    "    \n",
    "    hidden_states = activation_dict['hidden']\n",
    "    raw_feats = sae.encode(hidden_states)\n",
    "    \n",
    "    if agg == 'mean':\n",
    "        result= raw_feats.mean(dim=1) \n",
    "    elif agg == 'last':\n",
    "        result = raw_feats[:, -1]\n",
    "\n",
    "    del hidden_states, raw_feats\n",
    "    \n",
    "    return result"
   ]
  },
  {
   "cell_type": "code",
   "execution_count": 63,
   "id": "0bdd3b2e-53ca-4e2c-b32a-f3041e6a9d21",
   "metadata": {},
   "outputs": [],
   "source": [
    "class IndexedPromptDataset(Dataset):\n",
    "    def __init__(self, num_examples):\n",
    "        self.indices = list(range(num_examples))\n",
    "\n",
    "    def __len__(self):\n",
    "        return len(self.indices)\n",
    "\n",
    "    def __getitem__(self, idx):\n",
    "        return self.indices[idx]\n",
    "\n",
    "def collate_tokenized(batch_indices, tokenized):\n",
    "    return {k: v[batch_indices] for k, v in tokenized.items()}"
   ]
  },
  {
   "cell_type": "code",
   "execution_count": 64,
   "id": "5e9d2fa4-1bb3-4acd-9f7f-28b10d782465",
   "metadata": {},
   "outputs": [],
   "source": [
    "def get_ds_saes(sae, layer, prompts, model, collate_fn, batch_size=8, agg='mean'):\n",
    "    \n",
    "    dataset = IndexedPromptDataset(len(prompts))\n",
    "    dataloader = DataLoader(dataset, batch_size=batch_size, collate_fn=collate_fn)\n",
    "\n",
    "    num_feats = sae.cfg.d_sae\n",
    "    sae_mat = torch.zeros(len(prompts), num_feats)\n",
    "\n",
    "    with torch.no_grad():\n",
    "        for i, batch_inputs in enumerate(tqdm(dataloader)):\n",
    "            batch_inputs = {k: v.to(model.device) for k, v in batch_inputs.items()}\n",
    "            batch_feats = get_sae_acts(batch_inputs, layer=layer, agg=agg)\n",
    "            start = i * batch_size\n",
    "            end = start + batch_feats.shape[0]\n",
    "            sae_mat[start:end] = batch_feats.cpu()\n",
    "\n",
    "    return sae_mat"
   ]
  },
  {
   "cell_type": "code",
   "execution_count": 65,
   "id": "6f0a1076-a8e7-4741-95a2-676477af12f7",
   "metadata": {},
   "outputs": [],
   "source": [
    "aq_prompts = [format_prompt_aqua(q, reasoning=False, include_options=False) for q in aqua_ds]\n",
    "aq_tokenized = tokenizer(aq_prompts, return_tensors='pt', padding=True, truncation=True)"
   ]
  },
  {
   "cell_type": "code",
   "execution_count": 66,
   "id": "817d05ad-9e98-4615-a824-e79e424dcc98",
   "metadata": {},
   "outputs": [],
   "source": [
    "aq_collate_fn = partial(collate_tokenized, tokenized=aq_tokenized)"
   ]
  },
  {
   "cell_type": "code",
   "execution_count": 67,
   "id": "7df177e8-add6-4b4a-9791-ecc5aed161a7",
   "metadata": {},
   "outputs": [
    {
     "name": "stderr",
     "output_type": "stream",
     "text": [
      "100%|██████████| 32/32 [00:09<00:00,  3.45it/s]\n"
     ]
    }
   ],
   "source": [
    "means_r = get_ds_saes(sae, 25, aq_prompts, model, collate_fn=aq_collate_fn, agg='mean')"
   ]
  },
  {
   "cell_type": "code",
   "execution_count": 74,
   "id": "ca307248-3cfc-44ae-8a59-ce2f74793b82",
   "metadata": {},
   "outputs": [],
   "source": [
    "aq_cots_tokenized = tokenizer(gens, return_tensors='pt', padding=True, truncation=True)\n",
    "aq_cot_collate_fn = partial(collate_tokenized, tokenized=aq_tokenized)"
   ]
  },
  {
   "cell_type": "code",
   "execution_count": null,
   "id": "abf27dd7-32aa-4fd5-ab49-99c53b84392a",
   "metadata": {},
   "outputs": [],
   "source": []
  },
  {
   "cell_type": "code",
   "execution_count": 98,
   "id": "9d8dc579-f41d-49da-b6a7-5cb89c722a41",
   "metadata": {},
   "outputs": [
    {
     "name": "stderr",
     "output_type": "stream",
     "text": [
      "100%|██████████| 32/32 [00:09<00:00,  3.44it/s]\n"
     ]
    }
   ],
   "source": [
    "means_cot = get_ds_saes(sae, 25, gens, model, collate_fn=aq_cot_collate_fn, agg='mean')"
   ]
  },
  {
   "cell_type": "code",
   "execution_count": 102,
   "id": "b1f57806-187d-4b6d-9b8b-80e03f091458",
   "metadata": {},
   "outputs": [],
   "source": [
    "mean_q = trim_mean(means_r.detach(), proportiontocut=0.05, axis=0)"
   ]
  },
  {
   "cell_type": "code",
   "execution_count": 103,
   "id": "6a440941-1836-48cf-bca0-f4d4daa505d3",
   "metadata": {},
   "outputs": [],
   "source": [
    "means_cot = trim_mean(means_cot.detach(), proportiontocut=0.05, axis=0)"
   ]
  },
  {
   "cell_type": "code",
   "execution_count": 117,
   "id": "5ce6cd3a-0e98-4c00-af80-5c1a24c86c46",
   "metadata": {},
   "outputs": [
    {
     "ename": "TypeError",
     "evalue": "equal(): argument 'input' (position 1) must be Tensor, not tuple",
     "output_type": "error",
     "traceback": [
      "\u001b[0;31m---------------------------------------------------------------------------\u001b[0m",
      "\u001b[0;31mTypeError\u001b[0m                                 Traceback (most recent call last)",
      "Cell \u001b[0;32mIn[117], line 1\u001b[0m\n\u001b[0;32m----> 1\u001b[0m \u001b[43mtorch\u001b[49m\u001b[38;5;241;43m.\u001b[39;49m\u001b[43mequal\u001b[49m\u001b[43m(\u001b[49m\u001b[43m(\u001b[49m\u001b[43mmeans_r\u001b[49m\u001b[43m,\u001b[49m\u001b[43m \u001b[49m\u001b[43mmeans_cot\u001b[49m\u001b[43m)\u001b[49m\u001b[43m)\u001b[49m\n",
      "\u001b[0;31mTypeError\u001b[0m: equal(): argument 'input' (position 1) must be Tensor, not tuple"
     ]
    }
   ],
   "source": [
    "torch.equal(means_r, means_cot))"
   ]
  },
  {
   "cell_type": "code",
   "execution_count": 106,
   "id": "80af5922-2c0f-461d-903b-7c06525d6d1c",
   "metadata": {},
   "outputs": [],
   "source": [
    "epsilon = 1e-6\n",
    "percentage_increase = 100 * (means_cot - mean_q) / (mean_q + epsilon)"
   ]
  },
  {
   "cell_type": "code",
   "execution_count": 108,
   "id": "b633bffe-222a-4e39-a257-c1dcf3d243f0",
   "metadata": {},
   "outputs": [],
   "source": [
    "valid = (means_cot > 0.1) & (mean_q > 0.01)"
   ]
  },
  {
   "cell_type": "code",
   "execution_count": 110,
   "id": "8010cf91-319b-4b95-b5e8-b346064d0017",
   "metadata": {},
   "outputs": [],
   "source": [
    "filtered_percentage_increase = percentage_increase[valid]"
   ]
  },
  {
   "cell_type": "code",
   "execution_count": 112,
   "id": "1df3aa14-3e5d-4b18-97db-38741644fe68",
   "metadata": {},
   "outputs": [],
   "source": [
    "valid_indices = np.where(valid)[0]  "
   ]
  },
  {
   "cell_type": "code",
   "execution_count": 113,
   "id": "ae612298-6681-4a0f-aa9f-344027dda865",
   "metadata": {},
   "outputs": [
    {
     "name": "stdout",
     "output_type": "stream",
     "text": [
      "Feature 11: Question mean = 0.1233, CoT mean = 0.1233, % increase = 0.00%\n",
      "Feature 21947: Question mean = 0.4033, CoT mean = 0.4033, % increase = 0.00%\n",
      "Feature 21940: Question mean = 0.1824, CoT mean = 0.1824, % increase = 0.00%\n",
      "Feature 21939: Question mean = 0.1277, CoT mean = 0.1277, % increase = 0.00%\n",
      "Feature 21938: Question mean = 0.1439, CoT mean = 0.1439, % increase = 0.00%\n",
      "Feature 21933: Question mean = 0.1004, CoT mean = 0.1004, % increase = 0.00%\n",
      "Feature 21927: Question mean = 0.1407, CoT mean = 0.1407, % increase = 0.00%\n",
      "Feature 21923: Question mean = 0.1102, CoT mean = 0.1102, % increase = 0.00%\n",
      "Feature 21917: Question mean = 0.1429, CoT mean = 0.1429, % increase = 0.00%\n",
      "Feature 21916: Question mean = 0.1248, CoT mean = 0.1248, % increase = 0.00%\n"
     ]
    }
   ],
   "source": [
    "ranked_order = np.argsort(-filtered_percentage_increase)\n",
    "ranked_feature_indices = valid_indices[ranked_order] \n",
    "reasoning_feats = []\n",
    "\n",
    "top_k = 10\n",
    "for i in range(top_k):\n",
    "    idx = ranked_feature_indices[i]\n",
    "    reasoning_feats.append(idx)\n",
    "    print(f\"Feature {idx}: Question mean = {mean_q[idx]:.4f}, \"\n",
    "          f\"CoT mean = {means_cot[idx]:.4f}, \"\n",
    "          f\"% increase = {percentage_increase[idx]:.2f}%\")"
   ]
  },
  {
   "cell_type": "code",
   "execution_count": 114,
   "id": "45afa78c-a6da-4a13-8871-195e7bedfc9d",
   "metadata": {},
   "outputs": [
    {
     "ename": "NameError",
     "evalue": "name 'means_nr' is not defined",
     "output_type": "error",
     "traceback": [
      "\u001b[0;31m---------------------------------------------------------------------------\u001b[0m",
      "\u001b[0;31mNameError\u001b[0m                                 Traceback (most recent call last)",
      "Cell \u001b[0;32mIn[114], line 2\u001b[0m\n\u001b[1;32m      1\u001b[0m \u001b[38;5;28;01mfor\u001b[39;00m feat \u001b[38;5;129;01min\u001b[39;00m reasoning_feats:\n\u001b[0;32m----> 2\u001b[0m     \u001b[38;5;28mprint\u001b[39m(\u001b[38;5;124mf\u001b[39m\u001b[38;5;124m\"\u001b[39m\u001b[38;5;124mFeature \u001b[39m\u001b[38;5;132;01m{\u001b[39;00mfeat\u001b[38;5;132;01m}\u001b[39;00m\u001b[38;5;124m: Active in \u001b[39m\u001b[38;5;132;01m{\u001b[39;00m\u001b[38;5;241m100\u001b[39m\u001b[38;5;250m \u001b[39m\u001b[38;5;241m*\u001b[39m\u001b[38;5;250m \u001b[39m(means_r[:,feat]\u001b[38;5;250m \u001b[39m\u001b[38;5;241m>\u001b[39m\u001b[38;5;250m \u001b[39m\u001b[38;5;241m0\u001b[39m)\u001b[38;5;241m.\u001b[39msum()\u001b[38;5;250m \u001b[39m\u001b[38;5;241m/\u001b[39m\u001b[38;5;250m \u001b[39m\u001b[38;5;28mlen\u001b[39m(aq_prompts)\u001b[38;5;132;01m:\u001b[39;00m\u001b[38;5;124m.2f\u001b[39m\u001b[38;5;132;01m}\u001b[39;00m\u001b[38;5;124m% of questions and \u001b[39m\u001b[38;5;132;01m{\u001b[39;00m\u001b[38;5;241m100\u001b[39m\u001b[38;5;250m \u001b[39m\u001b[38;5;241m*\u001b[39m\u001b[38;5;250m \u001b[39m(means_nr[:,feat]\u001b[38;5;250m \u001b[39m\u001b[38;5;241m>\u001b[39m\u001b[38;5;250m \u001b[39m\u001b[38;5;241m0\u001b[39m)\u001b[38;5;241m.\u001b[39msum()\u001b[38;5;250m \u001b[39m\u001b[38;5;241m/\u001b[39m\u001b[38;5;250m \u001b[39m\u001b[38;5;28mlen\u001b[39m(tr_prompts)\u001b[38;5;132;01m:\u001b[39;00m\u001b[38;5;124m.2f\u001b[39m\u001b[38;5;132;01m}\u001b[39;00m\u001b[38;5;124m% of COTs\u001b[39m\u001b[38;5;124m\"\u001b[39m)\n",
      "\u001b[0;31mNameError\u001b[0m: name 'means_nr' is not defined"
     ]
    }
   ],
   "source": [
    "for feat in reasoning_feats:\n",
    "    print(f\"Feature {feat}: Active in {100 * (means_r[:,feat] > 0).sum() / len(aq_prompts):.2f}% of questions and {100 * (means_nr[:,feat] > 0).sum() / len(tr_prompts):.2f}% of COTs\")\n",
    "    "
   ]
  },
  {
   "cell_type": "code",
   "execution_count": null,
   "id": "3a5d3c80-22ad-40d1-9e77-ff95bb4979f4",
   "metadata": {},
   "outputs": [],
   "source": []
  }
 ],
 "metadata": {
  "kernelspec": {
   "display_name": "Python 3 (ipykernel)",
   "language": "python",
   "name": "python3"
  },
  "language_info": {
   "codemirror_mode": {
    "name": "ipython",
    "version": 3
   },
   "file_extension": ".py",
   "mimetype": "text/x-python",
   "name": "python",
   "nbconvert_exporter": "python",
   "pygments_lexer": "ipython3",
   "version": "3.10.13"
  }
 },
 "nbformat": 4,
 "nbformat_minor": 5
}
